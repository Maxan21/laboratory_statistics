{
 "cells": [
  {
   "cell_type": "markdown",
   "metadata": {},
   "source": [
    "**Задания из ноутбука 3 семинара.**\n"
   ]
  },
  {
   "cell_type": "markdown",
   "metadata": {},
   "source": [
    "Доверительный интервал с уровнем доверия 0.01 и 0.001"
   ]
  },
  {
   "cell_type": "code",
   "execution_count": 9,
   "metadata": {},
   "outputs": [
    {
     "name": "stdout",
     "output_type": "stream",
     "text": [
      "Доверительный интервал при a=0.01:\n",
      "(69767.4213664546, 110656.74530021206)\n",
      "Доверительный интервал при a=0.001:\n",
      "(62774.019240785885, 117650.1474258811)\n"
     ]
    }
   ],
   "source": [
    "import numpy as np\n",
    "import scipy.stats as stats\n",
    "\n",
    "alpha=0.01\n",
    "\n",
    "data = [77660, 77461, 71211, 80287, 69798, 89570, 66486, 82513, 167335, 63020, 81304, 70325, 70451, 83819, 82742, 97737, 91025, 91025, 78769, 87018, 161702, 59574, 61260, 202998]\n",
    "\n",
    "print('Доверительный интервал при a=0.01:')\n",
    "print(stats.t.interval(confidence=1-alpha, df=len(data)-1, loc=np.mean(data), scale=stats.sem(data)))\n",
    "\n",
    "print('Доверительный интервал при a=0.001:')\n",
    "print(stats.t.interval(confidence=1-alpha/10, df=len(data)-1, loc=np.mean(data), scale=stats.sem(data)))"
   ]
  },
  {
   "cell_type": "markdown",
   "metadata": {},
   "source": [
    "Доверительный интервал для стандартного отклонения."
   ]
  },
  {
   "cell_type": "code",
   "execution_count": 10,
   "metadata": {},
   "outputs": [
    {
     "name": "stdout",
     "output_type": "stream",
     "text": [
      "Доверительный интервал для стандартного отклонения:\n",
      "27728.83311100272 50046.622321866125\n"
     ]
    }
   ],
   "source": [
    "data = [77660, 77461, 71211, 80287, 69798, 89570, 66486, 82513, 167335, 63020, 81304, 70325, 70451, 83819, 82742, 97737, 91025, 91025, 78769, 87018, 161702, 59574, 61260, 202998]\n",
    "\n",
    "# Уровень доверия\n",
    "alpha = 0.05\n",
    "\n",
    "# Размер выборки\n",
    "n = len(data)\n",
    "\n",
    "# Вычисляем выборочное стандартное отклонение\n",
    "std_dev = np.std(data, ddof=1)\n",
    "\n",
    "# Вычисляем доверительный интервал для стандартного отклонения\n",
    "chi_l, chi_r = stats.chi2.ppf([1 - alpha/2, alpha/2], df=n-1)\n",
    "\n",
    "left_bound = np.sqrt((n - 1) * std_dev**2 / chi_l)\n",
    "right_bound = np.sqrt((n - 1) * std_dev**2 / chi_r)\n",
    "\n",
    "print(\"Доверительный интервал для стандартного отклонения:\")\n",
    "print(left_bound, right_bound)"
   ]
  },
  {
   "cell_type": "markdown",
   "metadata": {},
   "source": [
    "Для вычисления доверительного интервала для стандартного отклонения с использованием распределения хи-квадрат, необходимо использовать ту же формулу, что и для параметра $\\sigma^2$, но затем взять квадратный корень из рассчитанных границ интервала"
   ]
  },
  {
   "cell_type": "markdown",
   "metadata": {},
   "source": [
    "С помощью критерия Пирсона  χ2  проверить, извлечена ли выборка из нормально распределенной генеральной совокупности. На основании полученного  p−value  сделать соответствующие выводы."
   ]
  },
  {
   "cell_type": "code",
   "execution_count": 11,
   "metadata": {},
   "outputs": [
    {
     "name": "stdout",
     "output_type": "stream",
     "text": [
      "Power_divergenceResult(statistic=-2392.809770338596, pvalue=1.0)\n"
     ]
    }
   ],
   "source": [
    "data_1 = np.array([-0.92381148, -7.85423217, -3.84392923,  2.09793605, -6.44121148, -6.90856921,\n",
    " -4.86015786, -3.18982485, -2.0663121,  -0.97537333, -7.49210514, 15.10622733,\n",
    " -2.24056844, -0.30024337,  3.0771819,   3.87282985,  1.44277686,  3.1350076,\n",
    " -0.2087979,  -1.96891233, -8.41806126,  3.48189129,  8.29465749, -0.3019667,\n",
    "  3.59492783,  1.47310056,  1.45552366,  0.48111867, -6.76769424, -9.21688519,\n",
    "  5.86148415,  1.49726226, -7.92089753, -1.72609032, -2.56080562,  2.96248152,\n",
    " -3.38978766,  5.78684458,  5.63570755, -0.17762366,  2.28412479,  2.08721277,\n",
    " -7.8374102,   5.36420193,  0.90097827,  3.77879897, -2.29114273, -4.31106285,\n",
    " -3.13829459, -0.81855704])\n",
    "\n",
    "print(stats.chisquare(data_1))\n"
   ]
  },
  {
   "cell_type": "markdown",
   "metadata": {},
   "source": [
    "При уровне значимости a=0.05 и получившемся p нет оснований отвергнуть нулевую гипотезу, предполагающую, что выборка извлечена из нормально распределенной совокупности."
   ]
  },
  {
   "cell_type": "markdown",
   "metadata": {},
   "source": [
    "**Задание из ноутбука 4.**"
   ]
  },
  {
   "cell_type": "markdown",
   "metadata": {},
   "source": [
    "\n",
    "Сгенерируйте две выборки из нормального (или любого другого распределения) и посмотрите, что покажет тест. Сделайте соответствующие выводы."
   ]
  },
  {
   "cell_type": "code",
   "execution_count": 12,
   "metadata": {},
   "outputs": [
    {
     "data": {
      "text/plain": [
       "KstestResult(statistic=0.06, pvalue=0.9942356257694902, statistic_location=-0.2582244064183254, statistic_sign=-1)"
      ]
     },
     "execution_count": 12,
     "metadata": {},
     "output_type": "execute_result"
    }
   ],
   "source": [
    "data_1 = np.random.randn(100)\n",
    "data_2 = np.random.randn(100)\n",
    "stats.ks_2samp(data_1, data_2)"
   ]
  },
  {
   "cell_type": "markdown",
   "metadata": {},
   "source": [
    "Так как p-значение высокое (при a=0.05), мы не можем отклонить нулевую гипотезу и делаем вывод, что выборки `data_1` и `data_2` вероятно взяты из одного и того же распределения."
   ]
  },
  {
   "cell_type": "markdown",
   "metadata": {},
   "source": [
    "Выполнить тест Стьюдента для данных."
   ]
  },
  {
   "cell_type": "code",
   "execution_count": 13,
   "metadata": {},
   "outputs": [
    {
     "data": {
      "text/plain": [
       "TtestResult(statistic=-0.6337397070250238, pvalue=0.5300471010405257, df=38.0)"
      ]
     },
     "execution_count": 13,
     "metadata": {},
     "output_type": "execute_result"
    }
   ],
   "source": [
    "data1 = np.array([14, 15, 15, 16, 13, 8, 14, 17, 16, 14, 19, 20, 21, 15, 15, 16, 16, 13, 14, 12])\n",
    "\n",
    "data2 = np.array([15, 17, 14, 17, 14, 8, 12, 19, 19, 14, 17, 22, 24, 16, 13, 16, 13, 18, 15, 13])\n",
    "stats.ttest_ind(data1, data2)\n"
   ]
  },
  {
   "cell_type": "markdown",
   "metadata": {},
   "source": [
    "На основании полученных значений, мы не можем отклонить нулевую гипотезу, о том, что средние значения двух выборок равны, потому что p>0.05."
   ]
  },
  {
   "cell_type": "markdown",
   "metadata": {},
   "source": [
    "Для имеющихся выборок провести тесты Вилкоксона и Манна-Уитни."
   ]
  },
  {
   "cell_type": "markdown",
   "metadata": {},
   "source": [
    "Tест Вилкоксонa"
   ]
  },
  {
   "cell_type": "code",
   "execution_count": 14,
   "metadata": {},
   "outputs": [
    {
     "data": {
      "text/plain": [
       "WilcoxonResult(statistic=4.0, pvalue=0.4375)"
      ]
     },
     "execution_count": 14,
     "metadata": {},
     "output_type": "execute_result"
    }
   ],
   "source": [
    "X = np.array([0.5, 0.8, 4.6, 0.94, 1.45])\n",
    "Y = np.array([1.1, 0.74, 0.91, 0.71, 1.02])\n",
    "stats.wilcoxon(X, Y)"
   ]
  },
  {
   "cell_type": "markdown",
   "metadata": {},
   "source": [
    "Результаты теста Вилкоксона показывают, что статистически значимых различий между группами не обнаружено, так как p значительно больше уровня значимости 0.05"
   ]
  },
  {
   "cell_type": "markdown",
   "metadata": {},
   "source": [
    "Tест Манна-Уитни\n"
   ]
  },
  {
   "cell_type": "code",
   "execution_count": 15,
   "metadata": {},
   "outputs": [
    {
     "data": {
      "text/plain": [
       "MannwhitneyuResult(statistic=15.0, pvalue=0.6904761904761905)"
      ]
     },
     "execution_count": 15,
     "metadata": {},
     "output_type": "execute_result"
    }
   ],
   "source": [
    "stats.mannwhitneyu(X, Y)"
   ]
  },
  {
   "cell_type": "markdown",
   "metadata": {},
   "source": [
    "Результаты теста Манна-Уитни показывают, что статистически значимых различий между группами не обнаружено."
   ]
  },
  {
   "cell_type": "markdown",
   "metadata": {},
   "source": [
    "**Финальное задание 1**\n"
   ]
  },
  {
   "cell_type": "markdown",
   "metadata": {},
   "source": [
    "Сгенерировать данные, извлеченные из нормального распределения, оценить методом максимального правдоподобия параметры распределения. Сравнить оцененные параметры с исходными."
   ]
  },
  {
   "cell_type": "code",
   "execution_count": 16,
   "metadata": {},
   "outputs": [
    {
     "name": "stdout",
     "output_type": "stream",
     "text": [
      "Оценка mu: 5.019539190764963\n",
      "Оценка sigma: 1.9569281443749902\n",
      "Истинное среднее значение: 5\n",
      "Истинное значение стандартного отклонения: 2\n"
     ]
    }
   ],
   "source": [
    "import numpy as np\n",
    "import scipy.stats as stats\n",
    "data_task_3 = np.random.normal(loc=5, scale=2, size=1000)\n",
    "\n",
    "mu, sigma = stats.norm.fit(data_task_3)\n",
    "print(\"Оценка mu:\", mu)\n",
    "print(\"Оценка sigma:\", sigma)\n",
    "\n",
    "true_mu = 5   \n",
    "true_sigma = 2   \n",
    "print(\"Истинное среднее значение:\", true_mu)\n",
    "print(\"Истинное значение стандартного отклонения:\", true_sigma)"
   ]
  },
  {
   "cell_type": "markdown",
   "metadata": {},
   "source": [
    "Пусть alpha = 0.01. Найти доверительный интервал с уровнем доверия 1 - alpha для параметра sigma^2"
   ]
  },
  {
   "cell_type": "code",
   "execution_count": 17,
   "metadata": {},
   "outputs": [
    {
     "name": "stdout",
     "output_type": "stream",
     "text": [
      "1.7488039293530036 2.202483851121384\n"
     ]
    }
   ],
   "source": [
    "alpha = 0.01\n",
    "confidence_level = 1 - alpha\n",
    "n = len(data_task_3)\n",
    "\n",
    "chi_l, chi_r = stats.chi2.ppf([1 - alpha/2, alpha/2], df = n - 1)\n",
    "\n",
    "left_bound = (n - 1) * sigma / chi_l\n",
    "right_bound = (n - 1) * sigma / chi_r\n",
    "\n",
    "print(left_bound, right_bound)"
   ]
  },
  {
   "cell_type": "markdown",
   "metadata": {},
   "source": [
    "**Задание 3**\n"
   ]
  },
  {
   "cell_type": "code",
   "execution_count": 35,
   "metadata": {},
   "outputs": [],
   "source": [
    "import pandas as pd\n",
    "import numpy as np\n",
    "import matplotlib.pyplot as plt\n",
    "import seaborn as sns\n",
    "from sklearn import preprocessing\n",
    "from sklearn.linear_model import LinearRegression\n",
    "from sklearn.model_selection import train_test_split\n",
    "import statsmodels\n",
    "from statsmodels.stats.diagnostic import lilliefors,  het_goldfeldquandt, het_breuschpagan, acorr_breusch_godfrey\n",
    "from statsmodels.stats.stattools import durbin_watson\n",
    "import statsmodels.api as sm\n",
    "house_data = pd.read_csv('BostonHousing.csv')\n",
    "X = pd.DataFrame(house_data.iloc[:, 0:-1])\n",
    "y = house_data['medv']\n",
    "X['my_feature'] = X['crim'] * X['zn']\n",
    "X_train, X_test, y_train, y_test = train_test_split(X, y, train_size=0.7, random_state=42)\n",
    "scaler = preprocessing.MinMaxScaler()\n",
    "\n",
    "names = house_data.columns\n",
    "d = scaler.fit_transform(house_data)\n",
    "\n",
    "scaled_house_data = pd.DataFrame(d, columns=names)\n",
    "scaled_house_data.head()\n",
    "\n",
    "X = pd.DataFrame(scaled_house_data.iloc[:, 0:-1])\n",
    "y = scaled_house_data['medv']\n",
    "model = LinearRegression()\n",
    "model.fit(X_train, y_train) # обучение модели\n",
    "w = model.coef_\n",
    "b = model.intercept_\n",
    "\n",
    "y_train_predicted = model.predict(X_train)\n",
    "y_test_predicted = model.predict(X_test)\n",
    "#остатки для обучающего набора данных\n",
    "residuals_train = y_train - y_train_predicted\n",
    "#остатки для тестового набора данных\n",
    "residuals_test = y_test - y_test_predicted\n"
   ]
  },
  {
   "cell_type": "markdown",
   "metadata": {},
   "source": [
    " Проверить остатки модели на нормальность, используя\n",
    "- критерий Колмогорова--Смирнова или, как его еще называют, тест Лиллиефорса"
   ]
  },
  {
   "cell_type": "code",
   "execution_count": 19,
   "metadata": {},
   "outputs": [
    {
     "name": "stdout",
     "output_type": "stream",
     "text": [
      "Тест Лиллиефорса для обучающего набора данных\n",
      "(0.12331094200602988, 0.0009999999999998899)\n",
      "Тест Лиллиефорса для тестового набора данных\n",
      "(0.139153598387722, 0.0009999999999998899)\n"
     ]
    }
   ],
   "source": [
    "print('Тест Лиллиефорса для обучающего набора данных')\n",
    "print(statsmodels.stats.diagnostic.lilliefors(residuals_train, dist='norm', pvalmethod='table'))\n",
    "print('Тест Лиллиефорса для тестового набора данных')\n",
    "print(statsmodels.stats.diagnostic.lilliefors(residuals_test, dist='norm', pvalmethod='table'))"
   ]
  },
  {
   "cell_type": "markdown",
   "metadata": {},
   "source": [
    "Так как значение p<0,05, мы отклоняем нулевую гипотезу о том, что выборки обучающего и тестового набора данных имеют нормальное распределение"
   ]
  },
  {
   "cell_type": "markdown",
   "metadata": {},
   "source": [
    "Проверить остатки модели на гетероскедастичность, используя\n",
    "- тест Голдфелда--Квандта"
   ]
  },
  {
   "cell_type": "code",
   "execution_count": 31,
   "metadata": {},
   "outputs": [
    {
     "name": "stdout",
     "output_type": "stream",
     "text": [
      "Тест Голдфелда-Квандта для обучающей выборки:\n",
      "(0.7993848474734689, 0.9230208953645866, 'increasing')\n",
      "Тест Голдфелда-Квандта для тестовой выборки:\n",
      "(3.0394680852081475, 1.0477185192411033e-05, 'increasing')\n"
     ]
    }
   ],
   "source": [
    "print(\"Тест Голдфелда-Квандта для обучающей выборки:\")\n",
    "print(statsmodels.stats.diagnostic.het_goldfeldquandt(residuals_train, X_train))\n",
    "print(\"Тест Голдфелда-Квандта для тестовой выборки:\")\n",
    "print(statsmodels.stats.diagnostic.het_goldfeldquandt(residuals_test, X_test))\n"
   ]
  },
  {
   "cell_type": "markdown",
   "metadata": {},
   "source": [
    "Так как p значение для обучающей выборки больше 0.05, нет оснований отвергнуть гипотезу о гомоскедастичности.\n",
    "Для тестовой выбоки р значение очень мало, есть основания предполагать гетероскедастичность"
   ]
  },
  {
   "cell_type": "markdown",
   "metadata": {},
   "source": [
    "- тест Бройша--Пагана"
   ]
  },
  {
   "cell_type": "code",
   "execution_count": 39,
   "metadata": {},
   "outputs": [
    {
     "name": "stdout",
     "output_type": "stream",
     "text": [
      "Тест Бройша-Пагана для обучающей выборки:\n",
      "(50.65884353863929, 4.734161869915601e-06, 4.043855194954927, 1.714159388098323e-06)\n",
      "Тест Бройша-Пагана для тестовой выборки:\n",
      "(24.609030539341322, 0.03862911424283443, 1.8903768667902427, 0.032352967279396384)\n"
     ]
    }
   ],
   "source": [
    "const_X_train = sm.add_constant(X_train)\n",
    "const_X_test = sm.add_constant(X_test)\n",
    "print(\"Тест Бройша-Пагана для обучающей выборки:\")\n",
    "print(statsmodels.stats.diagnostic.het_breuschpagan(residuals_train, const_X_train))\n",
    "print(\"Тест Бройша-Пагана для тестовой выборки:\")\n",
    "print(statsmodels.stats.diagnostic.het_breuschpagan(residuals_test, const_X_test))"
   ]
  },
  {
   "cell_type": "markdown",
   "metadata": {},
   "source": [
    "Так как для обучающей выборки p<0.05, мы отклоняем нулевую гипотезу, и делаем вывод, что в остатках модели присутствует гетероскедастичность.  \n",
    "Для тестовой выборки вывод такой же"
   ]
  },
  {
   "cell_type": "markdown",
   "metadata": {},
   "source": [
    "Проверить наличие автокорреляции в остатках с помощью\n",
    "- теста Бройша--Годфри"
   ]
  },
  {
   "cell_type": "code",
   "execution_count": 50,
   "metadata": {},
   "outputs": [
    {
     "name": "stdout",
     "output_type": "stream",
     "text": [
      "Тест Бройша-Годфри для обучающей выборки:\n",
      "(2.35075608074831, 0.5028671807488181, 0.7509422271492063, 0.5224284529414159)\n",
      "Тест Бройша-Годфри для тестовой выборки:\n",
      "(4.614581163343099, 0.20229479838999154, 1.4089328102434617, 0.24294383243092116)\n"
     ]
    }
   ],
   "source": [
    "const_X_train = sm.add_constant(X_train)\n",
    "const_X_test= sm.add_constant(X_test)\n",
    "\n",
    "model_train = sm.OLS(y_train, const_X_train)\n",
    "results = model_train.fit()\n",
    "\n",
    "print(\"Тест Бройша-Годфри для обучающей выборки:\")\n",
    "print(statsmodels.stats.diagnostic.acorr_breusch_godfrey(results, nlags=3))\n",
    "print(\"Тест Бройша-Годфри для тестовой выборки:\")\n",
    "model_test = sm.OLS(y_test, const_X_test)\n",
    "results = model_test.fit()\n",
    "print(statsmodels.stats.diagnostic.acorr_breusch_godfrey(results, nlags=3))\n"
   ]
  },
  {
   "cell_type": "markdown",
   "metadata": {},
   "source": [
    "Так как для обеих выборок p>0.05 делаем вывод, что остатки независимы, то есть нет автокорреляции в любом порядке меньшем или равным 3."
   ]
  },
  {
   "cell_type": "markdown",
   "metadata": {},
   "source": [
    "- тест Дарбина--Уотсона\n"
   ]
  },
  {
   "cell_type": "code",
   "execution_count": 51,
   "metadata": {},
   "outputs": [
    {
     "name": "stdout",
     "output_type": "stream",
     "text": [
      "Тест Дарбина-Уотсона для обучающей выборки\n",
      "2.094654819956363\n",
      "Тест Дарбина-Уотсона для тренировочной выборки\n",
      "1.729500593410203\n"
     ]
    }
   ],
   "source": [
    "print('Тест Дарбина-Уотсона для обучающей выборки')\n",
    "print(durbin_watson(residuals_train, axis=0))\n",
    "print('Тест Дарбина-Уотсона для тренировочной выборки')\n",
    "print(durbin_watson(residuals_test, axis=0))"
   ]
  },
  {
   "cell_type": "markdown",
   "metadata": {},
   "source": [
    "Так как значение статистики находится в пределах от 1.5 до 2.5, то автокорреляции в остатках не наблюдается."
   ]
  },
  {
   "cell_type": "markdown",
   "metadata": {},
   "source": [
    "**Выводы:**  \n",
    "- Отклонение обеих выборок от нормального распределения остатков, это нарушает одно из ключевых предположений Гаусса-Маркова.\n",
    "- Результаты тестов на гетероскедастичность показали различное поведение модели в зависимости от выборки, что может указывать на нестабильность модели.\n",
    "- Автокорреляция в обеих выборках отсутствует.  \n",
    "Все это указывает на то, что модель сталкивается с проблемами, которые могут сказаться на статистических выводах.\n"
   ]
  }
 ],
 "metadata": {
  "kernelspec": {
   "display_name": "Python 3",
   "language": "python",
   "name": "python3"
  },
  "language_info": {
   "codemirror_mode": {
    "name": "ipython",
    "version": 3
   },
   "file_extension": ".py",
   "mimetype": "text/x-python",
   "name": "python",
   "nbconvert_exporter": "python",
   "pygments_lexer": "ipython3",
   "version": "3.12.1"
  }
 },
 "nbformat": 4,
 "nbformat_minor": 2
}
